{
 "cells": [
  {
   "cell_type": "code",
   "execution_count": 69,
   "metadata": {
    "collapsed": false
   },
   "outputs": [
    {
     "data": {
      "text/plain": [
       "1887.0"
      ]
     },
     "execution_count": 69,
     "metadata": {},
     "output_type": "execute_result"
    }
   ],
   "source": [
    "import numpy as np\n",
    "from sklearn.metrics import *\n",
    "\n",
    "kevin = np.array(\n",
    "        [[1044,  417,  233,   12,    0],\n",
    "         [  17,   18,   19,    2,    0],\n",
    "         [  81,  106,  467,   57,    0],\n",
    "         [   5,   11,   75,  378,   17],\n",
    "         [   0,    0,    0,    8,   83],]).astype(float)\n",
    "\n",
    "suhas = np.array(\n",
    "        [[ 597,  132,   32,    0,    0],\n",
    "         [ 161,  115,   78,    2,    0],\n",
    "         [  43,   86,  304,   24,    0],\n",
    "         [   4,    1,   44,  206,    6],\n",
    "         [   0,    0,    0,    7,   45],]).astype(float)\n",
    "\n",
    "np.sum(kevin)\n",
    "np.sum(suhas)"
   ]
  },
  {
   "cell_type": "code",
   "execution_count": 67,
   "metadata": {
    "collapsed": false
   },
   "outputs": [
    {
     "name": "stdout",
     "output_type": "stream",
     "text": [
      "** DenseNet **\n",
      "Precision (mean=0.66)\n",
      "[0.61 0.32 0.66 0.78 0.91]\n",
      "Recall (mean=0.64)\n",
      "[0.91 0.03 0.59 0.83 0.83]\n",
      "F1 (mean=0.62)\n",
      "[0.73 0.06 0.62 0.80 0.87]\n",
      "Overall accuracy\n",
      "0.6524590163934426\n",
      "\n",
      "** Faster R-CNN **\n",
      "Precision (mean=0.69)\n",
      "[0.78 0.32 0.67 0.79 0.87]\n",
      "Recall (mean=0.70)\n",
      "[0.74 0.34 0.66 0.86 0.88]\n",
      "F1 (mean=0.69)\n",
      "[0.76 0.33 0.66 0.82 0.87]\n",
      "Overall accuracy\n",
      "0.6714361420243773\n"
     ]
    }
   ],
   "source": [
    "np.set_printoptions(formatter={'float': lambda x: \"{0:0.2f}\".format(x)})\n",
    "\n",
    "def precisions_from_cm(cm):\n",
    "    return np.diag(cm) / np.sum(cm,1)\n",
    "\n",
    "def recalls_from_cm(cm):\n",
    "    return np.diag(cm) / np.sum(cm,0)\n",
    "\n",
    "def accuracy_from_cm(cm):\n",
    "    return sum(np.diag(cm)) / np.sum(cm)\n",
    "\n",
    "def f1s_from_cm(cm):\n",
    "    p = precisions_from_cm(cm)\n",
    "    r = recalls_from_cm(cm)\n",
    "    return 2 * p * r / (p + r)\n",
    "\n",
    "def metrics_from_cm(cm):\n",
    "    a = accuracy_from_cm(cm)\n",
    "    p = precisions_from_cm(cm)\n",
    "    r = recalls_from_cm(cm)\n",
    "    f1 = f1s_from_cm(cm)\n",
    "    return p,r,f1,a\n",
    "    \n",
    "def print_metrics(metrics):\n",
    "    print(\"Precision (mean=%.2f)\" % np.mean(metrics[0]))\n",
    "    print(metrics[0])\n",
    "    print(\"Recall (mean=%.2f)\" % np.mean(metrics[1]))\n",
    "    print(metrics[1])\n",
    "    print(\"F1 (mean=%.2f)\" % np.mean(metrics[2]))\n",
    "    print(metrics[2])\n",
    "    print(\"Overall accuracy\")\n",
    "    print(metrics[3])\n",
    "    pass\n",
    "\n",
    "print(\"** DenseNet **\")\n",
    "print_metrics(metrics_from_cm(kevin))\n",
    "print(\"\\n** Faster R-CNN **\")\n",
    "print_metrics(metrics_from_cm(suhas))"
   ]
  }
 ],
 "metadata": {
  "anaconda-cloud": {},
  "kernelspec": {
   "display_name": "Python [conda root]",
   "language": "python",
   "name": "conda-root-py"
  },
  "language_info": {
   "codemirror_mode": {
    "name": "ipython",
    "version": 2
   },
   "file_extension": ".py",
   "mimetype": "text/x-python",
   "name": "python",
   "nbconvert_exporter": "python",
   "pygments_lexer": "ipython2",
   "version": "2.7.12"
  }
 },
 "nbformat": 4,
 "nbformat_minor": 1
}
